{
 "cells": [
  {
   "cell_type": "markdown",
   "id": "f115fe7e-607c-45a2-a35a-c0cf157cde49",
   "metadata": {},
   "source": [
    "Data Mining Mini Project: Web Scraping\n",
    "-"
   ]
  },
  {
   "cell_type": "markdown",
   "id": "2f4c98d1-2197-44c0-b3ad-1f313a977eb6",
   "metadata": {},
   "source": [
    "Name: Mikollito Ong\n",
    "-"
   ]
  },
  {
   "cell_type": "markdown",
   "id": "8dcadc05-0925-4ad2-add3-cedd4255edb5",
   "metadata": {},
   "source": [
    "Student ID: 1103558\n",
    "-"
   ]
  },
  {
   "cell_type": "markdown",
   "id": "cc93def1-4a70-420b-bd5d-d450148ffe25",
   "metadata": {},
   "source": [
    "# Objective: \n",
    "The objective of this project is to apply web scraping techniques using the BeautifulSoup library to extract product information from a dummy e-commerce website (https://books.toscrape.com/). \n",
    "After collecting the data, we aim to apply a data mining technique (specifically Association Rule Mining) to uncover interesting relationships between product attributes such as price range, user rating, and stock availability. This process demonstrates how publicly available web data can be used for pattern discovery and business insights."
   ]
  },
  {
   "cell_type": "code",
   "execution_count": 1,
   "id": "83da6bef-e114-442c-b38c-be83a1b0e66f",
   "metadata": {},
   "outputs": [],
   "source": [
    "import requests\n",
    "from bs4 import BeautifulSoup\n",
    "import pandas as pd"
   ]
  },
  {
   "cell_type": "code",
   "execution_count": 2,
   "id": "e37af097-48fc-471b-b65c-63553c7b1282",
   "metadata": {},
   "outputs": [
    {
     "data": {
      "text/html": [
       "<div>\n",
       "<style scoped>\n",
       "    .dataframe tbody tr th:only-of-type {\n",
       "        vertical-align: middle;\n",
       "    }\n",
       "\n",
       "    .dataframe tbody tr th {\n",
       "        vertical-align: top;\n",
       "    }\n",
       "\n",
       "    .dataframe thead th {\n",
       "        text-align: right;\n",
       "    }\n",
       "</style>\n",
       "<table border=\"1\" class=\"dataframe\">\n",
       "  <thead>\n",
       "    <tr style=\"text-align: right;\">\n",
       "      <th></th>\n",
       "      <th>Title</th>\n",
       "      <th>Price</th>\n",
       "      <th>Availability</th>\n",
       "      <th>Rating</th>\n",
       "    </tr>\n",
       "  </thead>\n",
       "  <tbody>\n",
       "    <tr>\n",
       "      <th>0</th>\n",
       "      <td>A Light in the Attic</td>\n",
       "      <td>Â£51.77</td>\n",
       "      <td>In stock</td>\n",
       "      <td>Three</td>\n",
       "    </tr>\n",
       "    <tr>\n",
       "      <th>1</th>\n",
       "      <td>Tipping the Velvet</td>\n",
       "      <td>Â£53.74</td>\n",
       "      <td>In stock</td>\n",
       "      <td>One</td>\n",
       "    </tr>\n",
       "    <tr>\n",
       "      <th>2</th>\n",
       "      <td>Soumission</td>\n",
       "      <td>Â£50.10</td>\n",
       "      <td>In stock</td>\n",
       "      <td>One</td>\n",
       "    </tr>\n",
       "    <tr>\n",
       "      <th>3</th>\n",
       "      <td>Sharp Objects</td>\n",
       "      <td>Â£47.82</td>\n",
       "      <td>In stock</td>\n",
       "      <td>Four</td>\n",
       "    </tr>\n",
       "    <tr>\n",
       "      <th>4</th>\n",
       "      <td>Sapiens: A Brief History of Humankind</td>\n",
       "      <td>Â£54.23</td>\n",
       "      <td>In stock</td>\n",
       "      <td>Five</td>\n",
       "    </tr>\n",
       "  </tbody>\n",
       "</table>\n",
       "</div>"
      ],
      "text/plain": [
       "                                   Title    Price Availability Rating\n",
       "0                   A Light in the Attic  Â£51.77     In stock  Three\n",
       "1                     Tipping the Velvet  Â£53.74     In stock    One\n",
       "2                             Soumission  Â£50.10     In stock    One\n",
       "3                          Sharp Objects  Â£47.82     In stock   Four\n",
       "4  Sapiens: A Brief History of Humankind  Â£54.23     In stock   Five"
      ]
     },
     "execution_count": 2,
     "metadata": {},
     "output_type": "execute_result"
    }
   ],
   "source": [
    "url = \"https://books.toscrape.com/\"\n",
    "response = requests.get(url)\n",
    "soup = BeautifulSoup(response.text, \"html.parser\")\n",
    "\n",
    "books = soup.find_all(\"article\", class_=\"product_pod\")\n",
    "\n",
    "book_data = []\n",
    "\n",
    "for book in books:\n",
    "    title = book.h3.a[\"title\"]\n",
    "    price = book.find(\"p\", class_=\"price_color\").text\n",
    "    availability = book.find(\"p\", class_=\"instock availability\").text.strip()\n",
    "    rating = book.p.get(\"class\")[1]  # 'star-rating Three' -> 'Three'\n",
    "\n",
    "    book_data.append({\n",
    "        \"Title\": title,\n",
    "        \"Price\": price,\n",
    "        \"Availability\": availability,\n",
    "        \"Rating\": rating\n",
    "    })\n",
    "\n",
    "df = pd.DataFrame(book_data)\n",
    "df.head()\n"
   ]
  },
  {
   "cell_type": "code",
   "execution_count": 3,
   "id": "7da6b6c3-aaa9-4d25-a28b-01fb600ebfdc",
   "metadata": {},
   "outputs": [
    {
     "name": "stdout",
     "output_type": "stream",
     "text": [
      "Saved scraped data to books_scraped.csv\n"
     ]
    }
   ],
   "source": [
    "df.to_csv(\"books_scraped.csv\", index=False)\n",
    "print(\"Saved scraped data to books_scraped.csv\")\n"
   ]
  },
  {
   "cell_type": "code",
   "execution_count": 7,
   "id": "32cd3ef5-a7ce-4bd4-96ca-345193d8f53f",
   "metadata": {},
   "outputs": [
    {
     "name": "stderr",
     "output_type": "stream",
     "text": [
      "C:\\Users\\miko9\\anaconda3\\envs\\text_mining\\Lib\\site-packages\\mlxtend\\frequent_patterns\\association_rules.py:186: RuntimeWarning: invalid value encountered in divide\n",
      "  cert_metric = np.where(certainty_denom == 0, 0, certainty_num / certainty_denom)\n"
     ]
    },
    {
     "data": {
      "text/html": [
       "<div>\n",
       "<style scoped>\n",
       "    .dataframe tbody tr th:only-of-type {\n",
       "        vertical-align: middle;\n",
       "    }\n",
       "\n",
       "    .dataframe tbody tr th {\n",
       "        vertical-align: top;\n",
       "    }\n",
       "\n",
       "    .dataframe thead th {\n",
       "        text-align: right;\n",
       "    }\n",
       "</style>\n",
       "<table border=\"1\" class=\"dataframe\">\n",
       "  <thead>\n",
       "    <tr style=\"text-align: right;\">\n",
       "      <th></th>\n",
       "      <th>antecedents</th>\n",
       "      <th>consequents</th>\n",
       "      <th>support</th>\n",
       "      <th>confidence</th>\n",
       "      <th>lift</th>\n",
       "    </tr>\n",
       "  </thead>\n",
       "  <tbody>\n",
       "    <tr>\n",
       "      <th>0</th>\n",
       "      <td>(Rating_Five)</td>\n",
       "      <td>(Price_Range_High)</td>\n",
       "      <td>0.15</td>\n",
       "      <td>0.750000</td>\n",
       "      <td>1.250000</td>\n",
       "    </tr>\n",
       "    <tr>\n",
       "      <th>1</th>\n",
       "      <td>(Price_Range_High)</td>\n",
       "      <td>(Rating_Five)</td>\n",
       "      <td>0.15</td>\n",
       "      <td>0.250000</td>\n",
       "      <td>1.250000</td>\n",
       "    </tr>\n",
       "    <tr>\n",
       "      <th>2</th>\n",
       "      <td>(Rating_One)</td>\n",
       "      <td>(Price_Range_High)</td>\n",
       "      <td>0.20</td>\n",
       "      <td>0.666667</td>\n",
       "      <td>1.111111</td>\n",
       "    </tr>\n",
       "    <tr>\n",
       "      <th>3</th>\n",
       "      <td>(Price_Range_High)</td>\n",
       "      <td>(Rating_One)</td>\n",
       "      <td>0.20</td>\n",
       "      <td>0.333333</td>\n",
       "      <td>1.111111</td>\n",
       "    </tr>\n",
       "    <tr>\n",
       "      <th>4</th>\n",
       "      <td>(Rating_Three)</td>\n",
       "      <td>(Price_Range_High)</td>\n",
       "      <td>0.10</td>\n",
       "      <td>0.666667</td>\n",
       "      <td>1.111111</td>\n",
       "    </tr>\n",
       "  </tbody>\n",
       "</table>\n",
       "</div>"
      ],
      "text/plain": [
       "          antecedents         consequents  support  confidence      lift\n",
       "0       (Rating_Five)  (Price_Range_High)     0.15    0.750000  1.250000\n",
       "1  (Price_Range_High)       (Rating_Five)     0.15    0.250000  1.250000\n",
       "2        (Rating_One)  (Price_Range_High)     0.20    0.666667  1.111111\n",
       "3  (Price_Range_High)        (Rating_One)     0.20    0.333333  1.111111\n",
       "4      (Rating_Three)  (Price_Range_High)     0.10    0.666667  1.111111"
      ]
     },
     "execution_count": 7,
     "metadata": {},
     "output_type": "execute_result"
    }
   ],
   "source": [
    "# Association Rule Mining\n",
    "from mlxtend.frequent_patterns import apriori, association_rules\n",
    "from mlxtend.preprocessing import TransactionEncoder\n",
    "import re\n",
    "\n",
    "# Clean price: remove non-numeric characters like £ or Â using regex\n",
    "df['Price_Num'] = df['Price'].apply(lambda x: float(re.sub(r'[^\\d.]', '', x)))\n",
    "\n",
    "# Create a new 'Price_Range' column based on price thresholds\n",
    "def categorize_price(price):\n",
    "    if price < 20:\n",
    "        return 'Low'\n",
    "    elif 20 <= price <= 35:\n",
    "        return 'Medium'\n",
    "    else:\n",
    "        return 'High'\n",
    "\n",
    "df['Price_Range'] = df['Price_Num'].apply(categorize_price)\n",
    "\n",
    "# One-hot encode selected categorical features\n",
    "df_rules = pd.get_dummies(df[['Price_Range', 'Rating', 'Availability']])\n",
    "\n",
    "# Run Apriori to find frequent itemsets\n",
    "frequent_itemsets = apriori(df_rules, min_support=0.1, use_colnames=True)\n",
    "\n",
    "# Generate association rules with lift ≥ 1\n",
    "rules = association_rules(frequent_itemsets, metric=\"lift\", min_threshold=1)\n",
    "\n",
    "# Display top 5 rules\n",
    "rules[['antecedents', 'consequents', 'support', 'confidence', 'lift']].head()\n"
   ]
  },
  {
   "cell_type": "markdown",
   "id": "e2f59d32-9035-4aeb-8a7d-758af0a8610b",
   "metadata": {},
   "source": [
    "Antecedent: (Rating_Five)\n",
    "Consequent: (Price_Range_High)\n",
    "Support: 0.15 (15% of all books are both 5-Star and part of the high price range)\n",
    "Confidence: 0.75 (75% of 5-star books are also high priced)\n",
    "Lift: 1.25 (This combination occurs 25% more often than random chance)\n",
    "\n",
    "Antecedent: (Price_Range_High)\n",
    "Consequent: (Rating_Five)\n",
    "Confidence: 0.25 (Only 25% of expensive books are 5-star) \n",
    "Observation: This means that while 5-star books tend to be expensive, not all expensive books are all 5-star\n",
    "\n",
    "Antecedent: (Rating_One) \n",
    "Consequent: (Price_Range_High)\n",
    "Confidence: 0.666 (66% of 1-star books are also expensive)\n",
    "\n",
    "Summary:\n",
    "The Apriori-based association rule mining revealed that 5-star rated books are strongly associated with high prices (75% confidence, 1.25 lift). Interestingly, even 1-star and 3-star books often fall in the high price range, suggesting that price is not a direct indicator of user satisfaction. These insights could help in understanding pricing strategy or user expectations for premium products.\n",
    "---------------------------------------------------------------------------------"
   ]
  },
  {
   "cell_type": "code",
   "execution_count": 14,
   "id": "7c5eccb2-9f32-4ed2-850c-afc0159989a4",
   "metadata": {},
   "outputs": [
    {
     "data": {
      "text/html": [
       "<div>\n",
       "<style scoped>\n",
       "    .dataframe tbody tr th:only-of-type {\n",
       "        vertical-align: middle;\n",
       "    }\n",
       "\n",
       "    .dataframe tbody tr th {\n",
       "        vertical-align: top;\n",
       "    }\n",
       "\n",
       "    .dataframe thead th {\n",
       "        text-align: right;\n",
       "    }\n",
       "</style>\n",
       "<table border=\"1\" class=\"dataframe\">\n",
       "  <thead>\n",
       "    <tr style=\"text-align: right;\">\n",
       "      <th></th>\n",
       "      <th>antecedents</th>\n",
       "      <th>consequents</th>\n",
       "      <th>support</th>\n",
       "      <th>confidence</th>\n",
       "      <th>lift</th>\n",
       "    </tr>\n",
       "  </thead>\n",
       "  <tbody>\n",
       "    <tr>\n",
       "      <th>0</th>\n",
       "      <td>(Rating_Five)</td>\n",
       "      <td>(Price_Range_High)</td>\n",
       "      <td>0.15</td>\n",
       "      <td>0.750000</td>\n",
       "      <td>1.250000</td>\n",
       "    </tr>\n",
       "    <tr>\n",
       "      <th>1</th>\n",
       "      <td>(Price_Range_High)</td>\n",
       "      <td>(Rating_Five)</td>\n",
       "      <td>0.15</td>\n",
       "      <td>0.250000</td>\n",
       "      <td>1.250000</td>\n",
       "    </tr>\n",
       "    <tr>\n",
       "      <th>2</th>\n",
       "      <td>(Rating_One)</td>\n",
       "      <td>(Price_Range_High)</td>\n",
       "      <td>0.20</td>\n",
       "      <td>0.666667</td>\n",
       "      <td>1.111111</td>\n",
       "    </tr>\n",
       "    <tr>\n",
       "      <th>3</th>\n",
       "      <td>(Price_Range_High)</td>\n",
       "      <td>(Rating_One)</td>\n",
       "      <td>0.20</td>\n",
       "      <td>0.333333</td>\n",
       "      <td>1.111111</td>\n",
       "    </tr>\n",
       "    <tr>\n",
       "      <th>4</th>\n",
       "      <td>(Rating_Three)</td>\n",
       "      <td>(Price_Range_High)</td>\n",
       "      <td>0.10</td>\n",
       "      <td>0.666667</td>\n",
       "      <td>1.111111</td>\n",
       "    </tr>\n",
       "  </tbody>\n",
       "</table>\n",
       "</div>"
      ],
      "text/plain": [
       "          antecedents         consequents  support  confidence      lift\n",
       "0       (Rating_Five)  (Price_Range_High)     0.15    0.750000  1.250000\n",
       "1  (Price_Range_High)       (Rating_Five)     0.15    0.250000  1.250000\n",
       "2        (Rating_One)  (Price_Range_High)     0.20    0.666667  1.111111\n",
       "3  (Price_Range_High)        (Rating_One)     0.20    0.333333  1.111111\n",
       "4      (Rating_Three)  (Price_Range_High)     0.10    0.666667  1.111111"
      ]
     },
     "execution_count": 14,
     "metadata": {},
     "output_type": "execute_result"
    }
   ],
   "source": [
    "rules[['antecedents', 'consequents', 'support', 'confidence', 'lift']].head()\n"
   ]
  },
  {
   "cell_type": "code",
   "execution_count": 15,
   "id": "a17b07e9-670d-45bb-892a-f4977484ee59",
   "metadata": {},
   "outputs": [],
   "source": [
    "\n",
    "rules['Rule'] = rules['antecedents'].apply(lambda x: ', '.join(list(x))) + \" → \" + \\\n",
    "                rules['consequents'].apply(lambda x: ', '.join(list(x)))\n"
   ]
  },
  {
   "cell_type": "code",
   "execution_count": 16,
   "id": "e34ad4be-2e8e-488c-b6ac-4dff50c5162a",
   "metadata": {},
   "outputs": [
    {
     "name": "stderr",
     "output_type": "stream",
     "text": [
      "C:\\Users\\miko9\\AppData\\Local\\Temp\\ipykernel_664\\217462046.py:9: FutureWarning: \n",
      "\n",
      "Passing `palette` without assigning `hue` is deprecated and will be removed in v0.14.0. Assign the `y` variable to `hue` and set `legend=False` for the same effect.\n",
      "\n",
      "  sns.barplot(y='Rule', x='confidence', data=top_rules, palette='viridis')\n"
     ]
    },
    {
     "data": {
      "image/png": "[encoded data removed]",
      "text/plain": [
       "<Figure size 1000x600 with 1 Axes>"
      ]
     },
     "metadata": {},
     "output_type": "display_data"
    }
   ],
   "source": [
    "import matplotlib.pyplot as plt\n",
    "import seaborn as sns\n",
    "\n",
    "# Sort rules by confidence or lift\n",
    "top_rules = rules.sort_values(by='confidence', ascending=False).head(10)\n",
    "\n",
    "# Plot\n",
    "plt.figure(figsize=(10, 6))\n",
    "sns.barplot(y='Rule', x='confidence', data=top_rules, palette='viridis')\n",
    "plt.title(\"Top 10 Association Rules by Confidence\")\n",
    "plt.xlabel(\"Confidence\")\n",
    "plt.ylabel(\"Rule\")\n",
    "plt.tight_layout()\n",
    "plt.show()\n"
   ]
  },
  {
   "cell_type": "markdown",
   "id": "131ed1ec-79af-462d-9c79-5583ef919604",
   "metadata": {},
   "source": [
    "The chart displays the top 10 association rules sorted by confidence. All the top rules suggest that books with various combinations of ratings and price ranges are strongly associated with being in stock. For instance, books in the Price_Range_High category or those rated Five are highly likely to be available, with a confidence value close to 1.\n",
    "\n",
    "This suggests that the store tends to keep higher-rated or higher-priced books consistently in stock, possibly due to demand or perceived value. Such patterns can help optimize inventory strategies or promotional targeting.\n",
    "\n"
   ]
  },
  {
   "cell_type": "code",
   "execution_count": null,
   "id": "f352b7e4-5025-4b35-aad1-fc3857fcea41",
   "metadata": {},
   "outputs": [],
   "source": []
  }
 ],
 "metadata": {
  "kernelspec": {
   "display_name": "Python 3 (ipykernel)",
   "language": "python",
   "name": "python3"
  },
  "language_info": {
   "codemirror_mode": {
    "name": "ipython",
    "version": 3
   },
   "file_extension": ".py",
   "mimetype": "text/x-python",
   "name": "python",
   "nbconvert_exporter": "python",
   "pygments_lexer": "ipython3",
   "version": "3.11.11"
  }
 },
 "nbformat": 4,
 "nbformat_minor": 5
}
