{
 "cells": [
  {
   "cell_type": "code",
   "execution_count": 5,
   "id": "b419f0e5-638f-418f-a75e-88af0779515b",
   "metadata": {},
   "outputs": [
    {
     "name": "stderr",
     "output_type": "stream",
     "text": [
      "[nltk_data] Downloading package stopwords to\n",
      "[nltk_data]     C:\\Users\\miko9\\AppData\\Roaming\\nltk_data...\n",
      "[nltk_data]   Package stopwords is already up-to-date!\n",
      "[nltk_data] Downloading package punkt to\n",
      "[nltk_data]     C:\\Users\\miko9\\AppData\\Roaming\\nltk_data...\n",
      "[nltk_data]   Package punkt is already up-to-date!\n",
      "[nltk_data] Downloading package wordnet to\n",
      "[nltk_data]     C:\\Users\\miko9\\AppData\\Roaming\\nltk_data...\n",
      "[nltk_data]   Package wordnet is already up-to-date!\n"
     ]
    },
    {
     "data": {
      "text/plain": [
       "True"
      ]
     },
     "execution_count": 5,
     "metadata": {},
     "output_type": "execute_result"
    }
   ],
   "source": [
    "# Import Libraries:\n",
    "\n",
    "import pandas as pd\n",
    "import numpy as np\n",
    "import matplotlib.pyplot as plt\n",
    "import seaborn as sns\n",
    "import nltk\n",
    "import string\n",
    "from sklearn.model_selection import train_test_split\n",
    "from sklearn.feature_extraction.text import TfidfVectorizer\n",
    "from sklearn.linear_model import LogisticRegression\n",
    "from sklearn.metrics import classification_report, confusion_matrix, accuracy_score\n",
    "\n",
    "nltk.download('stopwords')\n",
    "nltk.download('punkt')\n",
    "nltk.download('wordnet')"
   ]
  },
  {
   "cell_type": "code",
   "execution_count": 6,
   "id": "f40dfaea-bf8b-412b-81b3-4314d3b4db30",
   "metadata": {},
   "outputs": [
    {
     "name": "stdout",
     "output_type": "stream",
     "text": [
      "<class 'pandas.core.frame.DataFrame'>\n",
      "RangeIndex: 7731 entries, 0 to 7730\n",
      "Data columns (total 2 columns):\n",
      " #   Column         Non-Null Count  Dtype \n",
      "---  ------         --------------  ----- \n",
      " 0   clean_text     7731 non-null   object\n",
      " 1   is_depression  7731 non-null   int64 \n",
      "dtypes: int64(1), object(1)\n",
      "memory usage: 120.9+ KB\n"
     ]
    },
    {
     "data": {
      "text/html": [
       "<div>\n",
       "<style scoped>\n",
       "    .dataframe tbody tr th:only-of-type {\n",
       "        vertical-align: middle;\n",
       "    }\n",
       "\n",
       "    .dataframe tbody tr th {\n",
       "        vertical-align: top;\n",
       "    }\n",
       "\n",
       "    .dataframe thead th {\n",
       "        text-align: right;\n",
       "    }\n",
       "</style>\n",
       "<table border=\"1\" class=\"dataframe\">\n",
       "  <thead>\n",
       "    <tr style=\"text-align: right;\">\n",
       "      <th></th>\n",
       "      <th>clean_text</th>\n",
       "      <th>is_depression</th>\n",
       "    </tr>\n",
       "  </thead>\n",
       "  <tbody>\n",
       "    <tr>\n",
       "      <th>0</th>\n",
       "      <td>we understand that most people who reply immed...</td>\n",
       "      <td>1</td>\n",
       "    </tr>\n",
       "    <tr>\n",
       "      <th>1</th>\n",
       "      <td>welcome to r depression s check in post a plac...</td>\n",
       "      <td>1</td>\n",
       "    </tr>\n",
       "    <tr>\n",
       "      <th>2</th>\n",
       "      <td>anyone else instead of sleeping more when depr...</td>\n",
       "      <td>1</td>\n",
       "    </tr>\n",
       "    <tr>\n",
       "      <th>3</th>\n",
       "      <td>i ve kind of stuffed around a lot in my life d...</td>\n",
       "      <td>1</td>\n",
       "    </tr>\n",
       "    <tr>\n",
       "      <th>4</th>\n",
       "      <td>sleep is my greatest and most comforting escap...</td>\n",
       "      <td>1</td>\n",
       "    </tr>\n",
       "  </tbody>\n",
       "</table>\n",
       "</div>"
      ],
      "text/plain": [
       "                                          clean_text  is_depression\n",
       "0  we understand that most people who reply immed...              1\n",
       "1  welcome to r depression s check in post a plac...              1\n",
       "2  anyone else instead of sleeping more when depr...              1\n",
       "3  i ve kind of stuffed around a lot in my life d...              1\n",
       "4  sleep is my greatest and most comforting escap...              1"
      ]
     },
     "execution_count": 6,
     "metadata": {},
     "output_type": "execute_result"
    }
   ],
   "source": [
    "# Load the dataset; Print the first few rows\n",
    "\n",
    "df = pd.read_csv(\"depression_dataset_reddit_cleaned.csv\")\n",
    "df.info()\n",
    "df.head()"
   ]
  },
  {
   "cell_type": "code",
   "execution_count": null,
   "id": "0de8ee2e-f25f-4fb7-97a1-962539b93312",
   "metadata": {},
   "outputs": [
    {
     "name": "stderr",
     "output_type": "stream",
     "text": [
      "[nltk_data] Downloading package punkt to\n",
      "[nltk_data]     C:\\Users\\miko9\\AppData\\Roaming\\nltk_data...\n",
      "[nltk_data]   Package punkt is already up-to-date!\n",
      "[nltk_data] Downloading package stopwords to\n",
      "[nltk_data]     C:\\Users\\miko9\\AppData\\Roaming\\nltk_data...\n",
      "[nltk_data]   Package stopwords is already up-to-date!\n",
      "[nltk_data] Downloading package wordnet to\n",
      "[nltk_data]     C:\\Users\\miko9\\AppData\\Roaming\\nltk_data...\n",
      "[nltk_data]   Package wordnet is already up-to-date!\n",
      "[nltk_data] Downloading package averaged_perceptron_tagger to\n",
      "[nltk_data]     C:\\Users\\miko9\\AppData\\Roaming\\nltk_data...\n",
      "[nltk_data]   Package averaged_perceptron_tagger is already up-to-\n",
      "[nltk_data]       date!\n"
     ]
    },
    {
     "name": "stdout",
     "output_type": "stream",
     "text": [
      "Original dataset size: 7731\n",
      "Final dataset size after filtering: 7289\n"
     ]
    },
    {
     "data": {
      "text/html": [
       "<div>\n",
       "<style scoped>\n",
       "    .dataframe tbody tr th:only-of-type {\n",
       "        vertical-align: middle;\n",
       "    }\n",
       "\n",
       "    .dataframe tbody tr th {\n",
       "        vertical-align: top;\n",
       "    }\n",
       "\n",
       "    .dataframe thead th {\n",
       "        text-align: right;\n",
       "    }\n",
       "</style>\n",
       "<table border=\"1\" class=\"dataframe\">\n",
       "  <thead>\n",
       "    <tr style=\"text-align: right;\">\n",
       "      <th></th>\n",
       "      <th>clean_text</th>\n",
       "      <th>processed_text</th>\n",
       "    </tr>\n",
       "  </thead>\n",
       "  <tbody>\n",
       "    <tr>\n",
       "      <th>0</th>\n",
       "      <td>we understand that most people who reply immed...</td>\n",
       "      <td>understand people reply immediately op invitat...</td>\n",
       "    </tr>\n",
       "    <tr>\n",
       "      <th>1</th>\n",
       "      <td>welcome to r depression s check in post a plac...</td>\n",
       "      <td>welcome r depression check post place take mom...</td>\n",
       "    </tr>\n",
       "    <tr>\n",
       "      <th>2</th>\n",
       "      <td>anyone else instead of sleeping more when depr...</td>\n",
       "      <td>anyone else instead sleep depressed stay night...</td>\n",
       "    </tr>\n",
       "    <tr>\n",
       "      <th>3</th>\n",
       "      <td>i ve kind of stuffed around a lot in my life d...</td>\n",
       "      <td>kind stuffed around lot life delay inevitable ...</td>\n",
       "    </tr>\n",
       "    <tr>\n",
       "      <th>4</th>\n",
       "      <td>sleep is my greatest and most comforting escap...</td>\n",
       "      <td>sleep great comfort escape whenever wake day l...</td>\n",
       "    </tr>\n",
       "  </tbody>\n",
       "</table>\n",
       "</div>"
      ],
      "text/plain": [
       "                                          clean_text  \\\n",
       "0  we understand that most people who reply immed...   \n",
       "1  welcome to r depression s check in post a plac...   \n",
       "2  anyone else instead of sleeping more when depr...   \n",
       "3  i ve kind of stuffed around a lot in my life d...   \n",
       "4  sleep is my greatest and most comforting escap...   \n",
       "\n",
       "                                      processed_text  \n",
       "0  understand people reply immediately op invitat...  \n",
       "1  welcome r depression check post place take mom...  \n",
       "2  anyone else instead sleep depressed stay night...  \n",
       "3  kind stuffed around lot life delay inevitable ...  \n",
       "4  sleep great comfort escape whenever wake day l...  "
      ]
     },
     "execution_count": 11,
     "metadata": {},
     "output_type": "execute_result"
    }
   ],
   "source": [
    "# Data Cleaning and Preprocessing\n",
    "# The \"depression_dataset_reddit_cleaned.csv\" was already cleaned when we got it. \n",
    "# However, we think we can further clean it by removing short posts (anything fewer than 5 words <-- This is subject to change later on).\n",
    "# We also check for and remove duplicate posts.\n",
    "\n",
    "import re\n",
    "import nltk\n",
    "from nltk import pos_tag\n",
    "from nltk.corpus import wordnet, stopwords\n",
    "from nltk.stem import WordNetLemmatizer\n",
    "from IPython.display import display\n",
    "\n",
    "# Downloads\n",
    "nltk.download('punkt')\n",
    "nltk.download('stopwords')\n",
    "nltk.download('wordnet')\n",
    "nltk.download('averaged_perceptron_tagger')\n",
    "\n",
    "# Initialize tools\n",
    "stop_words = set(stopwords.words('english'))\n",
    "lemmatizer = WordNetLemmatizer()\n",
    "\n",
    "# POS tag mapper\n",
    "# This is important for the lemmatizer to work properly.\n",
    "def get_wordnet_pos(tag):\n",
    "    if tag.startswith('J'):\n",
    "        return wordnet.ADJ\n",
    "    elif tag.startswith('V'):\n",
    "        return wordnet.VERB\n",
    "    elif tag.startswith('N'):\n",
    "        return wordnet.NOUN\n",
    "    elif tag.startswith('R'):\n",
    "        return wordnet.ADV\n",
    "    else:\n",
    "        return wordnet.NOUN  # default\n",
    "\n",
    "# Preprocessing function\n",
    "def preprocess_text_better(text):\n",
    "    text = text.lower()\n",
    "    text = re.sub(r\"[^a-zA-Z\\s]\", \"\", text)\n",
    "    tokens = nltk.word_tokenize(text)\n",
    "    tokens = [word for word in tokens if word not in stop_words]\n",
    "    pos_tags = pos_tag(tokens)\n",
    "    lemmatized = [lemmatizer.lemmatize(word, get_wordnet_pos(pos)) for word, pos in pos_tags]\n",
    "    return \" \".join(lemmatized)\n",
    "\n",
    "# Remove posts with fewer than 5 words\n",
    "df['word_count'] = df['clean_text'].apply(lambda x: len(x.split()))\n",
    "df = df[df['word_count'] >= 5]\n",
    "\n",
    "# Remove duplicate posts\n",
    "df = df.drop_duplicates(subset='clean_text')\n",
    "\n",
    "# Apply preprocessing\n",
    "df['processed_text'] = df['clean_text'].apply(preprocess_text_better)\n",
    "\n",
    "# Save as CSV File\n",
    "df[['clean_text', 'processed_text', 'is_depression']].to_csv(\"reddit_processed_text_data.csv\", index=False)\n",
    "\n",
    "print(\"Original dataset size: 7731\")\n",
    "print(\"Final dataset size after filtering:\", df.shape[0])\n",
    "\n",
    "\n",
    "df[['clean_text', 'processed_text']].head()\n"
   ]
  },
  {
   "cell_type": "code",
   "execution_count": 12,
   "id": "fc540641-98dc-497c-889c-ebe505b48fd7",
   "metadata": {},
   "outputs": [
    {
     "data": {
      "text/plain": [
       "<Figure size 1000x600 with 0 Axes>"
      ]
     },
     "metadata": {},
     "output_type": "display_data"
    },
    {
     "data": {
      "image/png": "[encoded data removed]",
      "text/plain": [
       "<Figure size 640x480 with 1 Axes>"
      ]
     },
     "metadata": {},
     "output_type": "display_data"
    }
   ],
   "source": [
    "# Feature extraction\n",
    "import pandas as pd\n",
    "import matplotlib.pyplot as plt\n",
    "\n",
    "tfidf = TfidfVectorizer(max_features=5000)\n",
    "X = tfidf.fit_transform(df['processed_text']).toarray()\n",
    "y = df['is_depression']\n",
    "\n",
    "# Get the feature (word) names from the TF-IDF vectorizer\n",
    "feature_names = tfidf.get_feature_names_out()\n",
    "\n",
    "# Sum the TF-IDF scores for each term across all documents\n",
    "tfidf_sums = X.sum(axis=0)\n",
    "\n",
    "# Create a DataFrame for easy sorting and plotting\n",
    "tfidf_df = pd.DataFrame({'term': feature_names, 'tfidf_sum': tfidf_sums})\n",
    "tfidf_df = tfidf_df.sort_values(by='tfidf_sum', ascending=False)\n",
    "\n",
    "# Plot the top 20 TF-IDF terms\n",
    "plt.figure(figsize=(10, 6))\n",
    "tfidf_df.head(20).plot(kind='barh', x='term', y='tfidf_sum', legend=False, color='purple')\n",
    "plt.title(\"Top 20 TF-IDF Terms (by Total Weight)\")\n",
    "plt.xlabel(\"TF-IDF Score (Summed Over All Posts)\")\n",
    "plt.gca().invert_yaxis()  # Highest score at the top\n",
    "plt.tight_layout()\n",
    "plt.show()"
   ]
  },
  {
   "cell_type": "code",
   "execution_count": 13,
   "id": "b94d2d36-255c-406d-b5bd-2859698e8135",
   "metadata": {},
   "outputs": [],
   "source": [
    "# Data Split (train-test splitting)\n",
    "\n",
    "X_train, X_test, y_train, y_test = train_test_split(X, y, test_size=0.2, random_state=42)\n"
   ]
  },
  {
   "cell_type": "code",
   "execution_count": 14,
   "id": "4b038e65-3dfd-4728-8cd0-739a1e847cc9",
   "metadata": {},
   "outputs": [],
   "source": [
    "# Load the model \n",
    "# For this project, we have decided to use Logistic Regression Model\n",
    "\n",
    "model = LogisticRegression(max_iter=1000)\n",
    "model.fit(X_train, y_train)\n",
    "y_pred = model.predict(X_test)\n"
   ]
  },
  {
   "cell_type": "code",
   "execution_count": 15,
   "id": "bc9db970-f6ba-4720-b1a1-b5c2e170ac97",
   "metadata": {},
   "outputs": [
    {
     "name": "stdout",
     "output_type": "stream",
     "text": [
      "Evaluation with threshold = 0.4\n",
      "Accuracy: 0.9547325102880658\n",
      "Classification Report:\n",
      "               precision    recall  f1-score   support\n",
      "\n",
      "           0       0.96      0.95      0.95       707\n",
      "           1       0.95      0.96      0.96       751\n",
      "\n",
      "    accuracy                           0.95      1458\n",
      "   macro avg       0.95      0.95      0.95      1458\n",
      "weighted avg       0.95      0.95      0.95      1458\n",
      "\n"
     ]
    },
    {
     "data": {
      "image/png": "[encoded data removed]",
      "text/plain": [
       "<Figure size 640x480 with 2 Axes>"
      ]
     },
     "metadata": {},
     "output_type": "display_data"
    }
   ],
   "source": [
    "# Load the model \n",
    "# For this project, we have decided to use Logistic Regression Model\n",
    "\n",
    "model = LogisticRegression(max_iter=1000)\n",
    "model.fit(X_train, y_train)\n",
    "# Get probabilities for class 1 (depression)\n",
    "y_proba = model.predict_proba(X_test)[:, 1]\n",
    "\n",
    "# Adjust threshold to 0.4 (you can experiment with values like 0.45 or 0.35 too)\n",
    "threshold = 0.4\n",
    "y_pred_thresh = (y_proba >= threshold).astype(int)\n",
    "\n",
    "# Evaluate\n",
    "print(f\"Evaluation with threshold = {threshold}\")\n",
    "print(\"Accuracy:\", accuracy_score(y_test, y_pred_thresh))\n",
    "print(\"Classification Report:\\n\", classification_report(y_test, y_pred_thresh))\n",
    "\n",
    "# Confusion Matrix\n",
    "sns.heatmap(confusion_matrix(y_test, y_pred_thresh), annot=True, fmt='d', cmap='Blues')\n",
    "plt.title(f\"Confusion Matrix (Threshold = {threshold})\")\n",
    "plt.xlabel(\"Predicted\")\n",
    "plt.ylabel(\"Actual\")\n",
    "plt.show()"
   ]
  },
  {
   "cell_type": "code",
   "execution_count": 16,
   "id": "5e147cf9-5a40-4c24-b6d5-ec549a47f2b9",
   "metadata": {},
   "outputs": [
    {
     "name": "stdout",
     "output_type": "stream",
     "text": [
      "Accuracy: 0.9547325102880658\n",
      "Classification Report:\n",
      "               precision    recall  f1-score   support\n",
      "\n",
      "           0       0.94      0.97      0.95       707\n",
      "           1       0.97      0.94      0.96       751\n",
      "\n",
      "    accuracy                           0.95      1458\n",
      "   macro avg       0.95      0.96      0.95      1458\n",
      "weighted avg       0.96      0.95      0.95      1458\n",
      "\n"
     ]
    },
    {
     "data": {
      "image/png": "[encoded data removed]",
      "text/plain": [
       "<Figure size 640x480 with 2 Axes>"
      ]
     },
     "metadata": {},
     "output_type": "display_data"
    }
   ],
   "source": [
    "# Evaluate the results \n",
    "print(\"Accuracy:\", accuracy_score(y_test, y_pred))\n",
    "print(\"Classification Report:\\n\", classification_report(y_test, y_pred))\n",
    "\n",
    "sns.heatmap(confusion_matrix(y_test, y_pred), annot=True, fmt='d', cmap='Blues')\n",
    "plt.xlabel(\"Predicted\")\n",
    "plt.ylabel(\"Actual\")\n",
    "plt.title(\"Confusion Matrix\")\n",
    "plt.show()\n"
   ]
  },
  {
   "cell_type": "code",
   "execution_count": 17,
   "id": "6ef608fe-8074-40a0-aab6-ff7f3bf20291",
   "metadata": {},
   "outputs": [
    {
     "name": "stdout",
     "output_type": "stream",
     "text": [
      "Naive Bayes Accuracy: 0.8950617283950617\n",
      "Naive Bayes Report:\n",
      "               precision    recall  f1-score   support\n",
      "\n",
      "           0       0.98      0.80      0.88       707\n",
      "           1       0.84      0.99      0.91       751\n",
      "\n",
      "    accuracy                           0.90      1458\n",
      "   macro avg       0.91      0.89      0.89      1458\n",
      "weighted avg       0.91      0.90      0.89      1458\n",
      "\n"
     ]
    },
    {
     "data": {
      "image/png": "[encoded data removed]",
      "text/plain": [
       "<Figure size 640x480 with 2 Axes>"
      ]
     },
     "metadata": {},
     "output_type": "display_data"
    }
   ],
   "source": [
    "# Try a second model to compare performance\n",
    "\n",
    "from sklearn.naive_bayes import MultinomialNB\n",
    "\n",
    "nb_model = MultinomialNB()\n",
    "nb_model.fit(X_train, y_train)\n",
    "y_nb_pred = nb_model.predict(X_test)\n",
    "\n",
    "# Evaluate\n",
    "from sklearn.metrics import classification_report, confusion_matrix, accuracy_score\n",
    "\n",
    "print(\"Naive Bayes Accuracy:\", accuracy_score(y_test, y_nb_pred))\n",
    "print(\"Naive Bayes Report:\\n\", classification_report(y_test, y_nb_pred))\n",
    "\n",
    "sns.heatmap(confusion_matrix(y_test, y_nb_pred), annot=True, fmt='d', cmap='Oranges')\n",
    "plt.title(\"Confusion Matrix - Naive Bayes\")\n",
    "plt.xlabel(\"Predicted\")\n",
    "plt.ylabel(\"Actual\")\n",
    "plt.show()\n"
   ]
  },
  {
   "cell_type": "code",
   "execution_count": 18,
   "id": "3e0df772-9e12-4d7d-b74a-375fc6321d2c",
   "metadata": {},
   "outputs": [],
   "source": [
    "# Define a function to process a new input text\n",
    "\n",
    "def predict_new_post(text, model):\n",
    "    # Preprocess like before\n",
    "    text = text.lower()\n",
    "    text = re.sub(r\"[^a-zA-Z\\s]\", \"\", text)\n",
    "    tokens = nltk.word_tokenize(text)\n",
    "    tokens = [word for word in tokens if word not in stop_words]\n",
    "    pos_tags = pos_tag(tokens)\n",
    "    lemmatized = [lemmatizer.lemmatize(word, get_wordnet_pos(pos)) for word, pos in pos_tags]\n",
    "    processed = \" \".join(lemmatized)\n",
    "    \n",
    "    # TF-IDF transform\n",
    "    tfidf_input = tfidf.transform([processed]).toarray()\n",
    "    \n",
    "    # Predict\n",
    "    prediction = model.predict(tfidf_input)[0]\n",
    "    probability = model.predict_proba(tfidf_input)[0][prediction]\n",
    "    \n",
    "    label = \"Depressed\" if prediction == 1 else \"Not Depressed\"\n",
    "    print(f\"Prediction: {label} (Confidence: {probability:.2f})\")\n"
   ]
  },
  {
   "cell_type": "code",
   "execution_count": 19,
   "id": "370e81e3-52b9-416e-baaa-7840384325d6",
   "metadata": {},
   "outputs": [
    {
     "name": "stdout",
     "output_type": "stream",
     "text": [
      "Prediction: Depressed (Confidence: 0.56)\n",
      "Prediction: Not Depressed (Confidence: 0.77)\n",
      "Prediction: Not Depressed (Confidence: 0.65)\n",
      "Prediction: Not Depressed (Confidence: 0.73)\n",
      "Prediction: Not Depressed (Confidence: 0.86)\n",
      "Prediction: Not Depressed (Confidence: 0.81)\n",
      "Prediction: Not Depressed (Confidence: 0.82)\n"
     ]
    }
   ],
   "source": [
    "# Logistic Regression to the input sentences\n",
    "predict_new_post(\"I feel so tired and empty all the time.\", model)\n",
    "predict_new_post(\"I believe i can fly really high\", model)\n",
    "predict_new_post(\"I feel like an empty shell of my former glory\", model)\n",
    "predict_new_post(\"I am so attracted to attractive people\", model)\n",
    "predict_new_post(\"No one is going through what I am going through\", model)\n",
    "predict_new_post(\"I am not interested in meeting new people\", model)\n",
    "predict_new_post(\"I have no desire in meeting new people\", model)"
   ]
  },
  {
   "cell_type": "code",
   "execution_count": 20,
   "id": "206a3888-e918-495b-9204-1367595c6dfc",
   "metadata": {},
   "outputs": [
    {
     "name": "stdout",
     "output_type": "stream",
     "text": [
      "Prediction: Depressed (Confidence: 0.87)\n",
      "Prediction: Not Depressed (Confidence: 0.53)\n",
      "Prediction: Depressed (Confidence: 0.66)\n",
      "Prediction: Depressed (Confidence: 0.84)\n",
      "Prediction: Depressed (Confidence: 0.50)\n",
      "Prediction: Not Depressed (Confidence: 0.52)\n",
      "Prediction: Depressed (Confidence: 0.53)\n"
     ]
    }
   ],
   "source": [
    "# Use Naive Bayes Model to test the input sentence\n",
    "predict_new_post(\"I feel like everything is meaningless.\", nb_model)\n",
    "predict_new_post(\"I really like going to parties\", nb_model)\n",
    "predict_new_post(\"I feel like an empty shell of my former glory\", nb_model)\n",
    "predict_new_post(\"I am not alone, i have many friends\", nb_model)\n",
    "predict_new_post(\"No one is going through what I am going through\", nb_model)\n",
    "predict_new_post(\"I am not interested in meeting new people\", nb_model)\n",
    "predict_new_post(\"I have no desire in meeting new people\", nb_model)"
   ]
  },
  {
   "cell_type": "code",
   "execution_count": null,
   "id": "77e2ea62-be81-4128-9692-545405306adb",
   "metadata": {},
   "outputs": [],
   "source": []
  }
 ],
 "metadata": {
  "kernelspec": {
   "display_name": "Python 3 (ipykernel)",
   "language": "python",
   "name": "python3"
  },
  "language_info": {
   "codemirror_mode": {
    "name": "ipython",
    "version": 3
   },
   "file_extension": ".py",
   "mimetype": "text/x-python",
   "name": "python",
   "nbconvert_exporter": "python",
   "pygments_lexer": "ipython3",
   "version": "3.11.11"
  }
 },
 "nbformat": 4,
 "nbformat_minor": 5
}
